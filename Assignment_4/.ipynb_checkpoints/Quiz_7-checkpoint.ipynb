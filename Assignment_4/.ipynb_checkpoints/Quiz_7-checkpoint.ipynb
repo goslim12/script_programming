{
 "cells": [
  {
   "cell_type": "markdown",
   "metadata": {},
   "source": [
    "##### [7번 문제]\n",
    "(서술형) import string 과 from string import * 의 차이점을 설명하시오."
   ]
  },
  {
   "cell_type": "markdown",
   "metadata": {},
   "source": [
    "#### - import string\n",
    "string 모듈을 불러온다. 이름공간 string이 그대로 유지되므로 string.xxx() 형태로 사용가능하다.\n",
    "\n",
    "#### - from string import *\n",
    "string 모듈안의 지정 이름을 불러온다는 뜻으로 ' * ' 는 모두 불러들인다. 이때 , 불러들인 각 이름은 무자격이름으로 직접 참조 가능하다. ( string. 필요없음 )"
   ]
  },
  {
   "cell_type": "code",
   "execution_count": null,
   "metadata": {
    "collapsed": true
   },
   "outputs": [],
   "source": []
  }
 ],
 "metadata": {
  "kernelspec": {
   "display_name": "Python 2",
   "language": "python",
   "name": "python2"
  },
  "language_info": {
   "codemirror_mode": {
    "name": "ipython",
    "version": 2
   },
   "file_extension": ".py",
   "mimetype": "text/x-python",
   "name": "python",
   "nbconvert_exporter": "python",
   "pygments_lexer": "ipython2",
   "version": "2.7.9"
  }
 },
 "nbformat": 4,
 "nbformat_minor": 0
}
