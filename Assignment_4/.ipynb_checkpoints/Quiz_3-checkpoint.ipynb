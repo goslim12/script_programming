{
 "cells": [
  {
   "cell_type": "markdown",
   "metadata": {},
   "source": [
    "<h5 id=\"[3&#48264;-&#47928;&#51228;]\">[3&#48264; &#47928;&#51228;]<a class=\"anchor-link\" href=\"#[3&#48264;-&#47928;&#51228;]\">&#182;</a></h5><p>range() 함수와 유사한 frange() 함수를 다음 조건을 참고하여 만드시오.</p>\n",
    "<ul>\n",
    "<li>1) frange()의 인자 구성은 다음과 같이 range와 동일하지만 각 인수들은 음수를 받지 않는다고 가정한다.<blockquote><p>range(stop)<br/>\n",
    "range(start, stop[, step])<br/></p>\n",
    "</blockquote>\n",
    "</li>\n",
    "<li>2) frange() 함수의 인자에 대한 기본 시작(start) 값은 0.0이고, 기본 단계(step) 값은 0.1이다. </li>\n",
    "<li>3) frange 사용 예<ul>\n",
    "<li>3-1) frange(0.5)<ul>\n",
    "<li>[0.0, 0.1, 0.2, 0.3, 0.4]</li>\n",
    "</ul>\n",
    "</li>\n",
    "<li>3-2) frange(1.0, 2.0)<ul>\n",
    "<li>[1.0, 1.1, 1.2, 1.3, 1.4, 1.5, 1.6, 1.7, 1.8, 1.9]</li>\n",
    "</ul>\n",
    "</li>\n",
    "<li>3-3) frange(2.2, 4.0, 0.5)<ul>\n",
    "<li>[2.2, 2.7, 3.2, 3.7]</li>\n",
    "</ul>\n",
    "</li>\n",
    "</ul>\n",
    "</li>\n",
    "</ul>"
   ]
  },
  {
   "cell_type": "code",
   "execution_count": 90,
   "metadata": {
    "collapsed": false
   },
   "outputs": [],
   "source": [
    "def frange(stop,start=0.0,step=0.1):\n",
    "    if stop<start :\n",
    "        start,stop = stop,start\n",
    "    l = []\n",
    "    while start < stop:\n",
    "        l.append(start)\n",
    "        start = round((step+start),len(str(step))-2) # float 오차로인해\n",
    "    return l"
   ]
  },
  {
   "cell_type": "code",
   "execution_count": 91,
   "metadata": {
    "collapsed": false,
    "scrolled": true
   },
   "outputs": [
    {
     "data": {
      "text/plain": [
       "[0.0, 0.1, 0.2, 0.3, 0.4]"
      ]
     },
     "execution_count": 91,
     "metadata": {},
     "output_type": "execute_result"
    }
   ],
   "source": [
    "frange(0.5)"
   ]
  },
  {
   "cell_type": "code",
   "execution_count": 92,
   "metadata": {
    "collapsed": false
   },
   "outputs": [
    {
     "data": {
      "text/plain": [
       "[1.0, 1.1, 1.2, 1.3, 1.4, 1.5, 1.6, 1.7, 1.8, 1.9]"
      ]
     },
     "execution_count": 92,
     "metadata": {},
     "output_type": "execute_result"
    }
   ],
   "source": [
    "frange(1.0, 2.0)"
   ]
  },
  {
   "cell_type": "code",
   "execution_count": 93,
   "metadata": {
    "collapsed": false,
    "scrolled": true
   },
   "outputs": [
    {
     "data": {
      "text/plain": [
       "[2.2, 2.7, 3.2, 3.7]"
      ]
     },
     "execution_count": 93,
     "metadata": {},
     "output_type": "execute_result"
    }
   ],
   "source": [
    "frange(2.2, 4.0, 0.5)"
   ]
  }
 ],
 "metadata": {
  "kernelspec": {
   "display_name": "Python 2",
   "language": "python",
   "name": "python2"
  },
  "language_info": {
   "codemirror_mode": {
    "name": "ipython",
    "version": 2
   },
   "file_extension": ".py",
   "mimetype": "text/x-python",
   "name": "python",
   "nbconvert_exporter": "python",
   "pygments_lexer": "ipython2",
   "version": "2.7.9"
  }
 },
 "nbformat": 4,
 "nbformat_minor": 0
}
