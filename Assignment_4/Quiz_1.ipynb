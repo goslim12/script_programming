{
 "cells": [
  {
   "cell_type": "markdown",
   "metadata": {
    "collapsed": true
   },
   "source": [
    "<h5 id=\"[1&#48264;-&#47928;&#51228;]\">[1&#48264; &#47928;&#51228;]<a class=\"anchor-link\" href=\"#[1&#48264;-&#47928;&#51228;]\">&#182;</a></h5><p>파일 s.txt 내의 다음 내용과 함께 아래 문제의 코드를 제시하시오.</p>\n",
    "<blockquote><p>pig ham<br/>\n",
    "cat dog<br/>\n",
    "ham bird<br/>\n",
    "dog pig<br/></p>\n",
    "</blockquote>\n",
    "\n",
    "\n"
   ]
  },
  {
   "cell_type": "markdown",
   "metadata": {},
   "source": [
    "<p>&nbsp;&nbsp;&nbsp;&nbsp;&nbsp;&nbsp;&nbsp;&nbsp;&nbsp;&nbsp;  - 1) 파일 s.txt을 읽어서 각 라인에 있는 첫 번째 단어(문자열) 자체들을 기준으로 라인별 정렬후 파일 s1.txt에 그 결과를 기록하는 코드를 작성하시오. 즉, 프로그램 수행 후 s1.txt에 있는 파일 내용은 다음과 같다.</p>\n",
    "<blockquote><p>cat dog<br/>\n",
    "dog pig<br/>\n",
    "ham bird<br/>\n",
    "pig ham<br/></p>\n",
    "</blockquote>\n",
    "\n"
   ]
  },
  {
   "cell_type": "code",
   "execution_count": 264,
   "metadata": {
    "collapsed": true
   },
   "outputs": [],
   "source": [
    "import os"
   ]
  },
  {
   "cell_type": "code",
   "execution_count": 265,
   "metadata": {
    "collapsed": false
   },
   "outputs": [
    {
     "name": "stdout",
     "output_type": "stream",
     "text": [
      "cat dog\n",
      "dog pig\n",
      "ham bird\n",
      "pig ham\n"
     ]
    }
   ],
   "source": [
    "\n",
    "f = file('s.txt') # f = open('t.txt', 'r')과 동일\n",
    "s = f.read()\n",
    "f.close()\n",
    "s = s.splitlines()\n",
    "s.sort()\n",
    "f = open('s1.txt', 'w')\n",
    "f.write('\\n'.join(s))\n",
    "f.close()\n",
    "\n",
    "f = open('s1.txt')\n",
    "f.seek(0)\n",
    "print f.read()\n",
    "f.close()"
   ]
  },
  {
   "cell_type": "markdown",
   "metadata": {},
   "source": [
    "<p>&nbsp;&nbsp;&nbsp;&nbsp;&nbsp;&nbsp;&nbsp;&nbsp;&nbsp;&nbsp;  - 2) 파일 s.txt을 읽어서 각 라인에 있는 두 번째 단어(문자열) 자체들을 기준으로 라인별 정렬후 파일 s2.txt에 그 결과를 기록하는 코드를 작성하시오. 즉, 프로그램 수행 후 s2.txt에 있는 파일 내용은 다음과 같다.</p>\n",
    "<blockquote><p>ham bird<br/>\n",
    "cat dog<br/>\n",
    "pig ham<br/>\n",
    "dog pig<br/></p>\n",
    "</blockquote>\n",
    "\n"
   ]
  },
  {
   "cell_type": "code",
   "execution_count": 266,
   "metadata": {
    "collapsed": false
   },
   "outputs": [
    {
     "name": "stdout",
     "output_type": "stream",
     "text": [
      "ham bird\n",
      "cat dog\n",
      "pig ham\n",
      "dog pig\n"
     ]
    }
   ],
   "source": [
    "f = file('s.txt') # f = open('t.txt', 'r')과 동일\n",
    "s = f.read()\n",
    "f.close()\n",
    "s = s.replace('\\n',' ')\n",
    "s = s.split(' ')\n",
    "ex_s=[]\n",
    "for i in range(0,len(s)-1,2):\n",
    "    ex_s.append([s[i],s[i+1]]) \n",
    "ex_s.sort(key=lambda x:x[1])\n",
    "for i in range(len(ex_s)):\n",
    "    ex_s[i] = \" \".join(ex_s[i])\n",
    "f = open('s3.txt','w')\n",
    "f.write(\"\\n\".join(ex_s))\n",
    "f.close()\n",
    "\n",
    "f = open('s3.txt')\n",
    "print f.read()\n",
    "f.close()"
   ]
  },
  {
   "cell_type": "markdown",
   "metadata": {},
   "source": [
    "<p>&nbsp;&nbsp;&nbsp;&nbsp;&nbsp;&nbsp;&nbsp;&nbsp;&nbsp;&nbsp;  - 3) 파일 s.txt을 읽어서 각 라인들에 있는 모든 단어들을 순차적으로 다시 나열하되 각 라인에 세 개의 단어들이 오도록 하여 s3.txt에 기록하는 코드를 작성하시오. 즉, 프로그램 수행 후 s3.txt에 있는 파일 내용은 다음과 같다.</p>\n",
    "<blockquote><p>pig ham cat<br/>\n",
    "dog ham bird<br/>\n",
    "dog pig<br/></p>\n",
    "</blockquote>\n",
    "\n"
   ]
  },
  {
   "cell_type": "code",
   "execution_count": 267,
   "metadata": {
    "collapsed": false
   },
   "outputs": [
    {
     "name": "stdout",
     "output_type": "stream",
     "text": [
      "pig ham cat\n",
      "dog ham bird\n",
      "dog pig \n"
     ]
    }
   ],
   "source": [
    "f = file('s.txt')\n",
    "s = f.read()\n",
    "f.close()\n",
    "s = s.split()\n",
    "for i in range(len(s)):\n",
    "    if (i+1)%3 ==0 :\n",
    "        s[i] += '\\n'\n",
    "    else:\n",
    "        s[i] += ' '\n",
    "f = open('s3.txt','w')\n",
    "f.write(''.join(s))\n",
    "f.close()\n",
    "f = file('s3.txt')\n",
    "print f.read()\n",
    "f.close()"
   ]
  },
  {
   "cell_type": "code",
   "execution_count": null,
   "metadata": {
    "collapsed": true
   },
   "outputs": [],
   "source": []
  }
 ],
 "metadata": {
  "kernelspec": {
   "display_name": "Python 2",
   "language": "python",
   "name": "python2"
  },
  "language_info": {
   "codemirror_mode": {
    "name": "ipython",
    "version": 2
   },
   "file_extension": ".py",
   "mimetype": "text/x-python",
   "name": "python",
   "nbconvert_exporter": "python",
   "pygments_lexer": "ipython2",
   "version": "2.7.9"
  }
 },
 "nbformat": 4,
 "nbformat_minor": 0
}
