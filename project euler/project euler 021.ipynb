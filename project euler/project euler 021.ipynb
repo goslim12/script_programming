{
 "cells": [
  {
   "cell_type": "code",
   "execution_count": 116,
   "metadata": {
    "collapsed": true
   },
   "outputs": [],
   "source": [
    "import math"
   ]
  },
  {
   "cell_type": "code",
   "execution_count": 117,
   "metadata": {
    "collapsed": false
   },
   "outputs": [],
   "source": [
    "number =1\n",
    "num=[0]*10000\n",
    "while number<=10000:\n",
    "    for i in range(1,int(math.sqrt(number))+1):\n",
    "        if number%i==0:\n",
    "            num[number-1]+=(number/i)\n",
    "            num[number-1]+=i\n",
    "            if(number/i == i):\n",
    "                num[number-1]-=i\n",
    "    num[number-1]-=number\n",
    "    number+=1"
   ]
  },
  {
   "cell_type": "code",
   "execution_count": 118,
   "metadata": {
    "collapsed": false
   },
   "outputs": [
    {
     "data": {
      "text/plain": [
       "31626"
      ]
     },
     "execution_count": 118,
     "metadata": {},
     "output_type": "execute_result"
    }
   ],
   "source": [
    "answer =0\n",
    "for i in range(10000):\n",
    "    if num[i]<10000:\n",
    "        if(i+1==num[num[i]-1])& (i+1 !=num[i]):\n",
    "            answer+=i+1\n",
    "\n",
    "answer"
   ]
  },
  {
   "cell_type": "code",
   "execution_count": null,
   "metadata": {
    "collapsed": true
   },
   "outputs": [],
   "source": []
  }
 ],
 "metadata": {
  "kernelspec": {
   "display_name": "Python 2",
   "language": "python",
   "name": "python2"
  },
  "language_info": {
   "codemirror_mode": {
    "name": "ipython",
    "version": 2
   },
   "file_extension": ".py",
   "mimetype": "text/x-python",
   "name": "python",
   "nbconvert_exporter": "python",
   "pygments_lexer": "ipython2",
   "version": "2.7.9"
  }
 },
 "nbformat": 4,
 "nbformat_minor": 0
}
