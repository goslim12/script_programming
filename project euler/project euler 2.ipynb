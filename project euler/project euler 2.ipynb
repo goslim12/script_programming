{
 "metadata": {
  "name": "",
  "signature": "sha256:c1c27c21362864e05dc8684fba3fc3dc6b9d4dfdf41abe23c8d25398788b9282"
 },
 "nbformat": 3,
 "nbformat_minor": 0,
 "worksheets": [
  {
   "cells": [
    {
     "cell_type": "markdown",
     "metadata": {},
     "source": [
      "\ud53c\ubcf4\ub098\uce58 \uc218\uc5f4\uc758 \uac01 \ud56d\uc740 \ubc14\ub85c \uc55e\uc758 \ud56d \ub450 \uac1c\ub97c \ub354\ud55c \uac83\uc774 \ub429\ub2c8\ub2e4. 1\uacfc 2\ub85c \uc2dc\uc791\ud558\ub294 \uacbd\uc6b0 \uc774 \uc218\uc5f4\uc740 \uc544\ub798\uc640 \uac19\uc2b5\ub2c8\ub2e4.\n",
      "\n",
      "1, 2, 3, 5, 8, 13, 21, 34, 55, 89, ...\n",
      "\uc9dd\uc218\uc774\uba74\uc11c 4\ubc31\ub9cc \uc774\ud558\uc778 \ubaa8\ub4e0 \ud56d\uc744 \ub354\ud558\uba74 \uc5bc\ub9c8\uac00 \ub429\ub2c8\uae4c?"
     ]
    },
    {
     "cell_type": "code",
     "collapsed": false,
     "input": [
      "fib = [0,1]\n",
      "i= 0\n",
      "sum = 0\n",
      "while (fib[1]<4000000):\n",
      "    fib[0] = fib[0] + fib[1]\n",
      "    fib[0],fib[1] = fib[1],fib[0]\n",
      "    if(fib[0]%2 ==0):\n",
      "        sum+=fib[0]\n",
      "print sum"
     ],
     "language": "python",
     "metadata": {},
     "outputs": [
      {
       "output_type": "stream",
       "stream": "stdout",
       "text": [
        "4613732\n"
       ]
      }
     ],
     "prompt_number": 10
    },
    {
     "cell_type": "code",
     "collapsed": false,
     "input": [
      "4613732\n"
     ],
     "language": "python",
     "metadata": {},
     "outputs": []
    }
   ],
   "metadata": {}
  }
 ]
}