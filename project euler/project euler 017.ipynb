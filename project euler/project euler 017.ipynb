{
 "cells": [
  {
   "cell_type": "code",
   "execution_count": 149,
   "metadata": {
    "collapsed": false
   },
   "outputs": [],
   "source": [
    "one = ['','one','two','three','four','five','six','seven','eight','nine']\n",
    "tn = ['teen','twenty','thirty','forty','fifty','sixty','seventy','eighty','ninety','hundred']\n",
    "two = ['ten','eleven','twelve','thir'+tn[0],one[4]+tn[0],'fif'+tn[0],one[6]+tn[0],one[7]+tn[0],'eigh'+tn[0],one[9]+tn[0]]"
   ]
  },
  {
   "cell_type": "code",
   "execution_count": 150,
   "metadata": {
    "collapsed": false
   },
   "outputs": [],
   "source": [
    "num=[]\n",
    "length = 0\n",
    "for i in range(1,10):\n",
    "    num.append(one[i])\n",
    "    length += len(one[i])\n",
    "for i in range(10):\n",
    "    num.append(two[i])\n",
    "    length += len(two[i])\n",
    "for i in range(1,9):\n",
    "    for j in range(10):\n",
    "        num.append(tn[i]+one[j])\n",
    "        length+= len(tn[i]+one[j])"
   ]
  },
  {
   "cell_type": "code",
   "execution_count": 151,
   "metadata": {
    "collapsed": false
   },
   "outputs": [],
   "source": [
    "for j in range(1,10):\n",
    "    length+= len(one[j]+''+'hundred')\n",
    "    #print one[j]+''+'hundred'             \n",
    "    for i in range(99): #101~199\n",
    "        #print one[j]+''+'hundredand'+''+num[i]\n",
    "        length+= len(one[j]+''+'hundredand'+'' +str( num[i]))"
   ]
  },
  {
   "cell_type": "code",
   "execution_count": 152,
   "metadata": {
    "collapsed": false
   },
   "outputs": [],
   "source": [
    "length += len('onethousand')"
   ]
  },
  {
   "cell_type": "code",
   "execution_count": 153,
   "metadata": {
    "collapsed": false
   },
   "outputs": [
    {
     "data": {
      "text/plain": [
       "21124"
      ]
     },
     "execution_count": 153,
     "metadata": {},
     "output_type": "execute_result"
    }
   ],
   "source": [
    "length"
   ]
  }
 ],
 "metadata": {
  "kernelspec": {
   "display_name": "Python 2",
   "language": "python",
   "name": "python2"
  },
  "language_info": {
   "codemirror_mode": {
    "name": "ipython",
    "version": 2
   },
   "file_extension": ".py",
   "mimetype": "text/x-python",
   "name": "python",
   "nbconvert_exporter": "python",
   "pygments_lexer": "ipython2",
   "version": "2.7.9"
  }
 },
 "nbformat": 4,
 "nbformat_minor": 0
}
