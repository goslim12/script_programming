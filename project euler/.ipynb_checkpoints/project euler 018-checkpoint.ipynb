{
 "cells": [
  {
   "cell_type": "code",
   "execution_count": 93,
   "metadata": {
    "collapsed": false
   },
   "outputs": [],
   "source": [
    " triangle = [[75],\n",
    "    [95 ,64],\n",
    "    [17 ,47, 82],\n",
    "    [18 ,35, 87, 10],\n",
    "    [20  ,4 ,82 ,47, 65],\n",
    "    [19  ,1, 23, 75,  3, 34],\n",
    "    [88  ,2 ,77 ,73  ,7 ,63 ,67],\n",
    "    [99 ,65,  4 ,28,  6 ,16, 70, 92],\n",
    "    [41 ,41 ,26 ,56 ,83 ,40 ,80 ,70 ,33],\n",
    "    [41 ,48 ,72 ,33 ,47 ,32 ,37 ,16 ,94, 29],\n",
    "    [53 ,71 ,44 ,65 ,25 ,43 ,91 ,52 ,97 ,51 ,14],\n",
    "    [70 ,11 ,33 ,28 ,77 ,73 ,17 ,78 ,39 ,68 ,17 ,57],\n",
    "    [91 ,71 ,52 ,38 ,17 ,14 ,91 ,43 ,58 ,50 ,27 ,29 ,48],\n",
    "    [63 ,66  ,4 ,68 ,89 ,53 ,67 ,30, 73 ,16, 69 ,87 ,40, 31],\n",
    "    [ 4 ,62 ,98 ,27 ,23 , 9 ,70 ,98, 73 ,93, 38 ,53, 60 , 4, 23]]"
   ]
  },
  {
   "cell_type": "code",
   "execution_count": 94,
   "metadata": {
    "collapsed": false
   },
   "outputs": [],
   "source": [
    "for i in range(len(triangle)-1):\n",
    "    for j in range(len(triangle[len(triangle)-i-2])):\n",
    "       triangle[len(triangle)-2-i][j] = max(triangle[len(triangle)-1-i][j]+triangle[len(triangle)-2-i][j],triangle[len(triangle)-1-i][j+1]+triangle[len(triangle)-2-i][j])"
   ]
  },
  {
   "cell_type": "code",
   "execution_count": 95,
   "metadata": {
    "collapsed": false
   },
   "outputs": [
    {
     "data": {
      "text/plain": [
       "[[1074],\n",
       " [995, 999],\n",
       " [818, 900, 935],\n",
       " [704, 801, 853, 792],\n",
       " [686, 640, 766, 731, 782],\n",
       " [666, 614, 636, 684, 660, 717],\n",
       " [647, 501, 613, 609, 533, 657, 683],\n",
       " [559, 499, 479, 536, 514, 526, 594, 616],\n",
       " [460, 434, 419, 475, 508, 470, 510, 524, 487],\n",
       " [419, 365, 393, 387, 419, 425, 430, 376, 454, 322],\n",
       " [378, 317, 231, 321, 354, 372, 393, 354, 360, 293, 247],\n",
       " [325, 246, 187, 178, 256, 329, 273, 302, 263, 242, 193, 233],\n",
       " [255, 235, 154, 150, 140, 179, 256, 209, 224, 172, 174, 176, 148],\n",
       " [125, 164, 102, 95, 112, 123, 165, 128, 166, 109, 122, 147, 100, 54],\n",
       " [4, 62, 98, 27, 23, 9, 70, 98, 73, 93, 38, 53, 60, 4, 23]]"
      ]
     },
     "execution_count": 95,
     "metadata": {},
     "output_type": "execute_result"
    }
   ],
   "source": [
    "triangle"
   ]
  },
  {
   "cell_type": "code",
   "execution_count": 96,
   "metadata": {
    "collapsed": false
   },
   "outputs": [
    {
     "data": {
      "text/plain": [
       "1074"
      ]
     },
     "execution_count": 96,
     "metadata": {},
     "output_type": "execute_result"
    }
   ],
   "source": [
    "triangle[0][0]"
   ]
  }
 ],
 "metadata": {
  "kernelspec": {
   "display_name": "Python 2",
   "language": "python",
   "name": "python2"
  },
  "language_info": {
   "codemirror_mode": {
    "name": "ipython",
    "version": 2
   },
   "file_extension": ".py",
   "mimetype": "text/x-python",
   "name": "python",
   "nbconvert_exporter": "python",
   "pygments_lexer": "ipython2",
   "version": "2.7.9"
  }
 },
 "nbformat": 4,
 "nbformat_minor": 0
}
