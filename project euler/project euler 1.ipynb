{
 "metadata": {
  "name": "",
  "signature": "sha256:7d76259343f7f62e9e9445c35547120032d6b20cf21b05fe63e49694e494955b"
 },
 "nbformat": 3,
 "nbformat_minor": 0,
 "worksheets": [
  {
   "cells": [
    {
     "cell_type": "markdown",
     "metadata": {},
     "source": [
      "10\ubcf4\ub2e4 \uc791\uc740 \uc790\uc5f0\uc218 \uc911\uc5d0\uc11c 3 \ub610\ub294 5\uc758 \ubc30\uc218\ub294 3, 5, 6, 9 \uc774\uace0, \uc774\uac83\uc744 \ubaa8\ub450 \ub354\ud558\uba74 23\uc785\ub2c8\ub2e4.\n",
      "\n",
      "1000\ubcf4\ub2e4 \uc791\uc740 \uc790\uc5f0\uc218 \uc911\uc5d0\uc11c 3 \ub610\ub294 5\uc758 \ubc30\uc218\ub97c \ubaa8\ub450 \ub354\ud558\uba74 \uc5bc\ub9c8\uc77c\uae4c\uc694?\n"
     ]
    },
    {
     "cell_type": "code",
     "collapsed": false,
     "input": [
      "sum = 0\n",
      "for i in range(0,1000):\n",
      "    if((i%3 ==0) or (i%5==0)):\n",
      "        sum += i\n",
      "print sum"
     ],
     "language": "python",
     "metadata": {},
     "outputs": [
      {
       "output_type": "stream",
       "stream": "stdout",
       "text": [
        "233168\n"
       ]
      }
     ],
     "prompt_number": 59
    },
    {
     "cell_type": "code",
     "collapsed": false,
     "input": [],
     "language": "python",
     "metadata": {},
     "outputs": []
    }
   ],
   "metadata": {}
  }
 ]
}