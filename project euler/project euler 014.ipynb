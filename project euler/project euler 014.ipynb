{
 "cells": [
  {
   "cell_type": "code",
   "execution_count": 14,
   "metadata": {
    "collapsed": false
   },
   "outputs": [],
   "source": [
    "def collatz(n):\n",
    "    if n%2==0:\n",
    "        n=n/2\n",
    "    else:\n",
    "        n=3*n+1\n",
    "    return n    \n"
   ]
  },
  {
   "cell_type": "code",
   "execution_count": 15,
   "metadata": {
    "collapsed": false
   },
   "outputs": [
    {
     "name": "stdout",
     "output_type": "stream",
     "text": [
      "5\n"
     ]
    }
   ],
   "source": [
    "print collatz(10)"
   ]
  },
  {
   "cell_type": "code",
   "execution_count": 21,
   "metadata": {
    "collapsed": false
   },
   "outputs": [
    {
     "name": "stdout",
     "output_type": "stream",
     "text": [
      "837799\n"
     ]
    }
   ],
   "source": [
    "num =2\n",
    "i=0\n",
    "temp_i=0\n",
    "while num<=1000000:\n",
    "    temp_num = num\n",
    "    while temp_num!=1 :\n",
    "        temp_num = collatz(temp_num)\n",
    "        i+=1\n",
    "    if(temp_i<i):\n",
    "        temp_i =i\n",
    "        temp = num\n",
    "    i=0\n",
    "    num+=1\n",
    "    #print \"num: \"+str(num)\n",
    "    \n",
    "print temp\n",
    "    \n",
    "\n",
    "    "
   ]
  },
  {
   "cell_type": "code",
   "execution_count": null,
   "metadata": {
    "collapsed": true
   },
   "outputs": [],
   "source": []
  }
 ],
 "metadata": {
  "kernelspec": {
   "display_name": "Python 2",
   "language": "python",
   "name": "python2"
  },
  "language_info": {
   "codemirror_mode": {
    "name": "ipython",
    "version": 2
   },
   "file_extension": ".py",
   "mimetype": "text/x-python",
   "name": "python",
   "nbconvert_exporter": "python",
   "pygments_lexer": "ipython2",
   "version": "2.7.9"
  }
 },
 "nbformat": 4,
 "nbformat_minor": 0
}
