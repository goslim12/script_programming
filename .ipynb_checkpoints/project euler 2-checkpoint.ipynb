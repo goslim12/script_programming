{
 "metadata": {
  "name": "",
  "signature": "sha256:afd96cc2c8ad7831bf235ef6923f548b9ae3bb4d610a41b6776c34a40be856c2"
 },
 "nbformat": 3,
 "nbformat_minor": 0,
 "worksheets": [
  {
   "cells": [
    {
     "cell_type": "markdown",
     "metadata": {},
     "source": [
      "\ud53c\ubcf4\ub098\uce58 \uc218\uc5f4\uc758 \uac01 \ud56d\uc740 \ubc14\ub85c \uc55e\uc758 \ud56d \ub450 \uac1c\ub97c \ub354\ud55c \uac83\uc774 \ub429\ub2c8\ub2e4. 1\uacfc 2\ub85c \uc2dc\uc791\ud558\ub294 \uacbd\uc6b0 \uc774 \uc218\uc5f4\uc740 \uc544\ub798\uc640 \uac19\uc2b5\ub2c8\ub2e4.\n",
      "\n",
      "1, 2, 3, 5, 8, 13, 21, 34, 55, 89, ...\n",
      "\uc9dd\uc218\uc774\uba74\uc11c 4\ubc31\ub9cc \uc774\ud558\uc778 \ubaa8\ub4e0 \ud56d\uc744 \ub354\ud558\uba74 \uc5bc\ub9c8\uac00 \ub429\ub2c8\uae4c?"
     ]
    },
    {
     "cell_type": "code",
     "collapsed": false,
     "input": [
      "sum = 0\n",
      "i = 0\n",
      "fib = [0,1]\n",
      "while(fib[i+1]<4000000):\n",
      "        fib[i] = fib[i] + fib[i+1]\n",
      "        fib[i],fib[i+1] = fib[i+1], fib[i]\n",
      "        if(fib[i]%2 == 0):\n",
      "            sum += fib[i]\n",
      "        \n",
      "print sum"
     ],
     "language": "python",
     "metadata": {},
     "outputs": [
      {
       "output_type": "stream",
       "stream": "stdout",
       "text": [
        "4613732\n"
       ]
      }
     ],
     "prompt_number": 10
    },
    {
     "cell_type": "code",
     "collapsed": false,
     "input": [],
     "language": "python",
     "metadata": {},
     "outputs": []
    }
   ],
   "metadata": {}
  }
 ]
}