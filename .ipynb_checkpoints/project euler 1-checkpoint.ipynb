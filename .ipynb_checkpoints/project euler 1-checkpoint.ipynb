{
 "metadata": {
  "name": "",
  "signature": "sha256:60552bdc35a801c196f4d030d26ef8a3aea73c59ac095deb3b962a0788062cee"
 },
 "nbformat": 3,
 "nbformat_minor": 0,
 "worksheets": []
}