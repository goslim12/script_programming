{
 "cells": [
  {
   "cell_type": "markdown",
   "metadata": {},
   "source": [
    "<div class=\"text_cell_render border-box-sizing rendered_html\">\n",
    "<h5 id=\"[3&#48264;-&#47928;&#51228;]\">[3&#48264; &#47928;&#51228;]<a class=\"anchor-link\" href=\"#[3&#48264;-&#47928;&#51228;]\">&#182;</a></h5><p>다음 각 요구사항 모두를 만족시키는 Counter 클래스를 코딩하시오 (정답을 각 요구사항별로 입력할 필요 없이 3번 문제에 대해 1개의 클래스 정의 코드를 제시하면 된다.)</p>\n",
    "<ul>\n",
    "<li><p>요구사항 1. 생성자에 count 값과 step 값을 인자로 받을 수 있다.</p>\n",
    "<ul>\n",
    "<li>count: Counter 인스턴스가 지니는 초기 정수 값</li>\n",
    "<li>step: Counter 인스턴스의 count가 증가되는 증분 (defalt 값: 1)</li>\n",
    "</ul>\n",
    "<blockquote><p>>>> c = Counter(10) <br/>\n",
    ">>> d = Counter(10, 2) <br/></p>\n",
    "</blockquote>\n",
    "</li>\n",
    "<li><p>요구사항 2. 다음과 같이 Counter의 인스턴스를 출력을 해주는 __str__() 메소드를 Counter 클래스 내에 구현하시오.</p>\n",
    "<blockquote><p>>>> print c  <br/>\n",
    "[Count (step: 1)] 10 <br/> \n",
    ">>> print d  <br/>\n",
    "[Count (step: 2)] 10 <br/></p>\n",
    "</blockquote>\n",
    "</li>\n",
    "<li><p>요구사항 3. 다음과 같이 step에 주어진 증분만큼 count를 증가시키는 incr() 메소드를 Counter 클래스 내에 구현하시오.</p>\n",
    "<blockquote><p>>>> c.incr()  <br/>\n",
    ">>> d.incr()  <br/>\n",
    ">>> print c  <br/>\n",
    "[Count (step: 1)] 11 <br/> \n",
    ">>> print d  <br/>\n",
    "[Count (step: 2)] 12 <br/></p>\n",
    "</blockquote>\n",
    "</li>\n",
    "<li><p>요구사항 4. Counter 클래스 내에 관련 메소드를 추가하여 인스턴스 객체를 직접 호출(call)할 수 있도록 하시오. 인스턴스 객체를 직접 호출했을 때에 내부적으로 incr() 메소드를 호출하는 방법으로 구현하시오.</p>\n",
    "<blockquote><p>>>> c()  <br/>\n",
    ">>> d()  <br/>\n",
    ">>> print c  <br/>\n",
    "[Count (step: 1)] 12 <br/> \n",
    ">>> print d  <br/>\n",
    "[Count (step: 2)] 14 <br/></p>\n",
    "</blockquote>\n",
    "</li>\n",
    "<li><p>요구사항 5. 다음과 같은 두 개의 산술 연산 (+, -)이 수행될 수 있도록 Counter 클래스 내에 관련 메소드를 추가하시오.</p>\n",
    "<blockquote><p>>>> c = c + 5  <br/>\n",
    ">>> d = d - 5  <br/>\n",
    ">>> print c  <br/>\n",
    "[Count (step: 1)] 17 <br/> \n",
    ">>> print d  <br/>\n",
    "[Count (step: 2)] 9 <br/></p>\n",
    "</blockquote>\n",
    "</li>\n",
    "<li><p>요구사항 6. 다음과 같은 관계연산 (&gt;, &lt;, ==)이 수행될 수 있도록 Counter 클래스 내에 관련 메소드를 추가하시오.</p>\n",
    "<blockquote><p>>>> print c &gt; 10  <br/>\n",
    "True <br/> \n",
    ">>> print d &gt; 10 <br/>\n",
    "False <br/>\n",
    ">>> print c &lt; 10  <br/>\n",
    "False <br/> \n",
    ">>> print d &lt; 10 <br/>\n",
    "True <br/>\n",
    ">>> print c == 17  <br/>\n",
    "True <br/> \n",
    ">>> print d != 9 <br/>\n",
    "False <br/></p>\n",
    "</blockquote>\n",
    "</li>\n",
    "</ul>\n",
    "\n",
    "</div>"
   ]
  },
  {
   "cell_type": "code",
   "execution_count": null,
   "metadata": {
    "collapsed": true
   },
   "outputs": [],
   "source": [
    "0"
   ]
  }
 ],
 "metadata": {
  "kernelspec": {
   "display_name": "Python 2",
   "language": "python",
   "name": "python2"
  },
  "language_info": {
   "codemirror_mode": {
    "name": "ipython",
    "version": 2
   },
   "file_extension": ".py",
   "mimetype": "text/x-python",
   "name": "python",
   "nbconvert_exporter": "python",
   "pygments_lexer": "ipython2",
   "version": "2.7.9"
  }
 },
 "nbformat": 4,
 "nbformat_minor": 0
}
