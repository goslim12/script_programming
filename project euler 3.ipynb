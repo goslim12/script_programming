{
 "metadata": {
  "name": "",
  "signature": "sha256:1d04396b746143b02d02af2484557b2df56bd7c0e8b85ed4834453a48a3bebd3"
 },
 "nbformat": 3,
 "nbformat_minor": 0,
 "worksheets": [
  {
   "cells": [
    {
     "cell_type": "markdown",
     "metadata": {},
     "source": [
      "\uc5b4\ub5a4 \uc218\ub97c \uc18c\uc218\uc758 \uacf1\uc73c\ub85c\ub9cc \ub098\ud0c0\ub0b4\ub294 \uac83\uc744 \uc18c\uc778\uc218\ubd84\ud574\ub77c \ud558\uace0, \uc774 \uc18c\uc218\ub4e4\uc744 \uadf8 \uc218\uc758 \uc18c\uc778\uc218\ub77c\uace0 \ud569\ub2c8\ub2e4.\n",
      "\uc608\ub97c \ub4e4\uba74 13195\uc758 \uc18c\uc778\uc218\ub294 5, 7, 13, 29 \uc785\ub2c8\ub2e4.\n",
      "\n",
      "600851475143\uc758 \uc18c\uc778\uc218 \uc911\uc5d0\uc11c \uac00\uc7a5 \ud070 \uc218\ub97c \uad6c\ud558\uc138\uc694.\n"
     ]
    },
    {
     "cell_type": "code",
     "collapsed": false,
     "input": [
      "num = 600851475143\n",
      "i = 2\n",
      "while(num>=i):\n",
      "    if(num%i==0):\n",
      "        num/=i\n",
      "    else:\n",
      "        i+=1\n",
      "        \n",
      "print i\n",
      "        "
     ],
     "language": "python",
     "metadata": {},
     "outputs": [
      {
       "output_type": "stream",
       "stream": "stdout",
       "text": [
        "6857\n"
       ]
      }
     ],
     "prompt_number": 2
    },
    {
     "cell_type": "code",
     "collapsed": false,
     "input": [],
     "language": "python",
     "metadata": {},
     "outputs": []
    }
   ],
   "metadata": {}
  }
 ]
}