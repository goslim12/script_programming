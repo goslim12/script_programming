{
 "cells": [
  {
   "cell_type": "markdown",
   "metadata": {},
   "source": [
    "##문제\n",
    "\n",
    "사용자로 부터 정수를 입력받아서 1부터 그 사이에 존재하는 소수 (Prime number)를 출력하는 파이썬 프로그램을 작성하시오."
   ]
  },
  {
   "cell_type": "code",
   "execution_count": null,
   "metadata": {
    "collapsed": false
   },
   "outputs": [],
   "source": [
    "num = input(\"정수를 입력하세요: \")\n",
    "\n",
    "\n",
    "i = 2\n",
    "count =0\n",
    "arr = []\n",
    "while(num>=i):\n",
    "    for j in range(1,i+1):\n",
    "        if(i%j==0):\n",
    "            count+=1\n",
    "        if(count>=3):\n",
    "            break\n",
    "    if(count==2):\n",
    "        arr.append(j)\n",
    "    count =0\n",
    "    i+=1\n",
    "\n",
    "\n",
    "\n",
    "print \"1부터 \" + `num` +\"사이에 존재하는 소수 (Prime number)는 \"\n",
    "print arr \n",
    "        \n",
    "    "
   ]
  },
  {
   "cell_type": "code",
   "execution_count": null,
   "metadata": {
    "collapsed": true
   },
   "outputs": [],
   "source": []
  }
 ],
 "metadata": {
  "kernelspec": {
   "display_name": "Python 2",
   "language": "python",
   "name": "python2"
  },
  "language_info": {
   "codemirror_mode": {
    "name": "ipython",
    "version": 2
   },
   "file_extension": ".py",
   "mimetype": "text/x-python",
   "name": "python",
   "nbconvert_exporter": "python",
   "pygments_lexer": "ipython2",
   "version": "2.7.9"
  }
 },
 "nbformat": 4,
 "nbformat_minor": 0
}
